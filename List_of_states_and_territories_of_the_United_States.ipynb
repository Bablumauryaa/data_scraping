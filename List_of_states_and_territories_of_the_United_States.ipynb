{
 "cells": [
  {
   "cell_type": "code",
   "execution_count": 4,
   "id": "0b63d6f6-3aad-42f4-bd7f-39c0b6189461",
   "metadata": {},
   "outputs": [
    {
     "name": "stdout",
     "output_type": "stream",
     "text": [
      "<Response [200]>\n"
     ]
    }
   ],
   "source": [
    "import requests\n",
    "from bs4 import BeautifulSoup\n",
    "# sending https request to server for html code \n",
    "url=requests.get(\"https://en.wikipedia.org/wiki/List_of_states_and_territories_of_the_United_States\")\n",
    "print(url)\n",
    "#print(url.text)\n",
    "\n"
   ]
  },
  {
   "cell_type": "code",
   "execution_count": 55,
   "id": "e72083dd-bfd0-462c-a8bd-70b589224f25",
   "metadata": {},
   "outputs": [
    {
     "name": "stdout",
     "output_type": "stream",
     "text": [
      "5,024,279\n",
      "733,391\n",
      "113,990\n",
      "53,179\n",
      "39,538,223\n",
      "104,094\n",
      "3,605,944\n",
      "989,948\n",
      "21,538,187\n",
      "59,425\n",
      "10,932\n",
      "83,569\n",
      "12,812,508\n",
      "36,420\n",
      "56,273\n",
      "2,937,880\n",
      "4,505,836\n",
      "4,657,757\n",
      "1,362,359\n",
      "6,177,224\n",
      "10,554\n",
      "10,077,331\n",
      "5,706,494\n",
      "48,432\n",
      "6,154,913\n",
      "1,084,225\n",
      "1,961,504\n",
      "3,104,614\n",
      "1,377,529\n",
      "9,288,994\n",
      "2,117,522\n",
      "20,201,249\n",
      "10,439,388\n",
      "779,094\n",
      "44,826\n",
      "69,899\n",
      "4,237,256\n",
      "13,002,700\n",
      "1,545\n",
      "5,118,425\n",
      "886,667\n",
      "42,144\n",
      "29,145,505\n",
      "84,897\n",
      "643,077\n",
      "8,631,393\n",
      "7,705,281\n",
      "24,230\n",
      "5,893,718\n",
      "97,813\n"
     ]
    }
   ],
   "source": [
    "# after gets the html text making it html code\n",
    "soup=BeautifulSoup(url.text,\"html.parser\")\n",
    "#print(soup.prettify)\n",
    "# by using find extracting the use full data \n",
    "table=soup.find(\"table\",{'class': 'wikitable'}) # takes help of chat gpt for this\n",
    "rows = table.find_all('tr')\n",
    "l1=[]\n",
    "l2=[]\n",
    "for i in range(2,len(rows)):\n",
    "    city=rows[i].find_all(\"a\") # to find city\n",
    "    cells=rows[i].find_all(\"td\") # to find population\n",
    "    city1=city[0].text\n",
    "    popu= cells[4].get_text(strip=True) # to remove spaces\n",
    "    l1.append(city1)\n",
    "    l2.append(popu)\n",
    "    print(popu)\n",
    "\n",
    "    "
   ]
  },
  {
   "cell_type": "code",
   "execution_count": 58,
   "id": "3cab2ba8-320b-4b6c-90c1-1437a9bf60cd",
   "metadata": {},
   "outputs": [
    {
     "name": "stdout",
     "output_type": "stream",
     "text": [
      "              city  population\n",
      "0          Alabama   5,024,279\n",
      "1           Alaska     733,391\n",
      "2          Arizona     113,990\n",
      "3         Arkansas      53,179\n",
      "4       California  39,538,223\n",
      "5         Colorado     104,094\n",
      "6      Connecticut   3,605,944\n",
      "7         Delaware     989,948\n",
      "8          Florida  21,538,187\n",
      "9          Georgia      59,425\n",
      "10          Hawaii      10,932\n",
      "11           Idaho      83,569\n",
      "12        Illinois  12,812,508\n",
      "13         Indiana      36,420\n",
      "14            Iowa      56,273\n",
      "15          Kansas   2,937,880\n",
      "16        Kentucky   4,505,836\n",
      "17       Louisiana   4,657,757\n",
      "18           Maine   1,362,359\n",
      "19        Maryland   6,177,224\n",
      "20   Massachusetts      10,554\n",
      "21        Michigan  10,077,331\n",
      "22       Minnesota   5,706,494\n",
      "23     Mississippi      48,432\n",
      "24        Missouri   6,154,913\n",
      "25         Montana   1,084,225\n",
      "26        Nebraska   1,961,504\n",
      "27          Nevada   3,104,614\n",
      "28   New Hampshire   1,377,529\n",
      "29      New Jersey   9,288,994\n",
      "30      New Mexico   2,117,522\n",
      "31        New York  20,201,249\n",
      "32  North Carolina  10,439,388\n",
      "33    North Dakota     779,094\n",
      "34            Ohio      44,826\n",
      "35        Oklahoma      69,899\n",
      "36          Oregon   4,237,256\n",
      "37    Pennsylvania  13,002,700\n",
      "38    Rhode Island       1,545\n",
      "39  South Carolina   5,118,425\n",
      "40    South Dakota     886,667\n",
      "41       Tennessee      42,144\n",
      "42           Texas  29,145,505\n",
      "43            Utah      84,897\n",
      "44         Vermont     643,077\n",
      "45        Virginia   8,631,393\n",
      "46      Washington   7,705,281\n",
      "47   West Virginia      24,230\n",
      "48       Wisconsin   5,893,718\n",
      "49         Wyoming      97,813\n"
     ]
    }
   ],
   "source": [
    "import pandas as pd\n",
    "d={\"city\":l1,\"population\":l2}\n",
    "df=pd.DataFrame(d)\n",
    "df.to_csv(\"list_of_states.csv\")\n",
    "print(df)"
   ]
  },
  {
   "cell_type": "code",
   "execution_count": null,
   "id": "c11e63fc-5999-44fa-9d93-9261c968e4db",
   "metadata": {},
   "outputs": [],
   "source": []
  }
 ],
 "metadata": {
  "kernelspec": {
   "display_name": "Python 3 (ipykernel)",
   "language": "python",
   "name": "python3"
  },
  "language_info": {
   "codemirror_mode": {
    "name": "ipython",
    "version": 3
   },
   "file_extension": ".py",
   "mimetype": "text/x-python",
   "name": "python",
   "nbconvert_exporter": "python",
   "pygments_lexer": "ipython3",
   "version": "3.12.4"
  }
 },
 "nbformat": 4,
 "nbformat_minor": 5
}
